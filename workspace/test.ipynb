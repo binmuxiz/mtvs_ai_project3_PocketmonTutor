{
 "cells": [
  {
   "cell_type": "code",
   "execution_count": 2,
   "id": "704c02ac",
   "metadata": {},
   "outputs": [],
   "source": [
    "from eunbin import TodoToolkit\n",
    "\n",
    "tools = TodoToolkit().get_tools()"
   ]
  },
  {
   "cell_type": "code",
   "execution_count": 3,
   "id": "b40764a9",
   "metadata": {},
   "outputs": [
    {
     "data": {
      "text/plain": [
       "[AddTodoTool(name='add_todo', description='할 일을 db에 추가합니다.', args_schema=<class 'eunbin.tools.AddTodoInput'>),\n",
       " ViewTodoTool(),\n",
       " CompleteTodoTool(),\n",
       " RemoveTodoTool()]"
      ]
     },
     "execution_count": 3,
     "metadata": {},
     "output_type": "execute_result"
    }
   ],
   "source": [
    "tools"
   ]
  },
  {
   "cell_type": "code",
   "execution_count": null,
   "id": "4487aabe",
   "metadata": {},
   "outputs": [],
   "source": []
  }
 ],
 "metadata": {
  "kernelspec": {
   "display_name": "pokemon-server",
   "language": "python",
   "name": "python3"
  },
  "language_info": {
   "codemirror_mode": {
    "name": "ipython",
    "version": 3
   },
   "file_extension": ".py",
   "mimetype": "text/x-python",
   "name": "python",
   "nbconvert_exporter": "python",
   "pygments_lexer": "ipython3",
   "version": "3.12.9"
  }
 },
 "nbformat": 4,
 "nbformat_minor": 5
}
